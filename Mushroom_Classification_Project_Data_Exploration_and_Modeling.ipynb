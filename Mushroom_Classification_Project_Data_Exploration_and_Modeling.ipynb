{
  "nbformat": 4,
  "nbformat_minor": 0,
  "metadata": {
    "colab": {
      "name": "Mushroom Classification Project - Data Exploration and Modeling.ipynb",
      "provenance": [],
      "collapsed_sections": [
        "cP89Y4P3U062",
        "ztQULuN22fxb",
        "N5xdqnT34xuj",
        "tGpFFy5Q41yg",
        "6ahv3x6y5wNO",
        "9PxB0JuwIG96"
      ],
      "mount_file_id": "1els_UnwNzRhdncaKO6CKmgJfhjB9aeEE",
      "authorship_tag": "ABX9TyP1fXRzrHHdWxFKc28v0OG0",
      "include_colab_link": true
    },
    "kernelspec": {
      "name": "python3",
      "display_name": "Python 3"
    },
    "language_info": {
      "name": "python"
    }
  },
  "cells": [
    {
      "cell_type": "markdown",
      "metadata": {
        "id": "view-in-github",
        "colab_type": "text"
      },
      "source": [
        "<a href=\"https://colab.research.google.com/github/davidwan08/Data-Exploration-Modeling-and-Analysis-Project/blob/main/Mushroom_Classification_Project_Data_Exploration_and_Modeling.ipynb\" target=\"_parent\"><img src=\"https://colab.research.google.com/assets/colab-badge.svg\" alt=\"Open In Colab\"/></a>"
      ]
    },
    {
      "cell_type": "markdown",
      "source": [
        "# **Data Overview**"
      ],
      "metadata": {
        "id": "cP89Y4P3U062"
      }
    },
    {
      "cell_type": "markdown",
      "source": [
        "Source: https://www.kaggle.com/datasets/uciml/mushroom-classification\n",
        "\n",
        "### Context\n",
        "Although this dataset was originally contributed to the UCI Machine Learning repository nearly 30 years ago, mushroom hunting (otherwise known as \"shrooming\") is enjoying new peaks in popularity. Learn which features spell certain death and which are most palatable in this dataset of mushroom characteristics. And how certain can your model be?\n",
        "\n",
        "### Content\n",
        "This dataset includes descriptions of hypothetical samples corresponding to 23 species of gilled mushrooms in the Agaricus and Lepiota Family Mushroom drawn from The Audubon Society Field Guide to North American Mushrooms (1981). Each species is identified as definitely edible, definitely poisonous, or of unknown edibility and not recommended. This latter class was combined with the poisonous one. The Guide clearly states that there is no simple rule for determining the edibility of a mushroom; no rule like \"leaflets three, let it be'' for Poisonous Oak and Ivy.\n",
        "\n",
        "- Time period: Donated to UCI ML 27 April 1987\n",
        "\n",
        "### Inspiration\n",
        "- What types of machine learning models perform best on this dataset?\n",
        "- Which features are most indicative of a poisonous mushroom?"
      ],
      "metadata": {
        "id": "f1OmXBNEVxGL"
      }
    },
    {
      "cell_type": "markdown",
      "source": [
        "# **Data Dictionary**"
      ],
      "metadata": {
        "id": "ej8krb97VDrr"
      }
    },
    {
      "cell_type": "markdown",
      "source": [
        "Attribute Information: (classes: edible=e, poisonous=p)\n",
        "\n",
        "- cap-shape: bell=b, conical=c, convex=x, flat=f, knobbed=k, sunken=s (6 distinct values)\n",
        "- cap-surface: fibrous=f, grooves=g, scaly=y, smooth=s (4 distinct values)\n",
        "- cap-color: brown=n, buff=b, cinnamon=c, gray=g, green=r, pink=p, purple=u,red=e, white=w, yellow=y (10 distinct values)\n",
        "- bruises: bruises=t, no=f (2 distinct values)\n",
        "- odor: almond=a, anise=l, creosote=c, fishy=y, foul=f, musty=m, none=n,pungent=p, spicy=s (9 distinct values)\n",
        "- gill-attachment: attached=a, descending=d, free=f, notched=n (4 distinct values)\n",
        "- gill-spacing: close=c, crowded=w, distant=d (3 distinct values)\n",
        "- gill-size: broad=b, narrow=n (2 distinct values)\n",
        "- gill-color: black=k, brown=n, buff=b, chocolate=h, gray=g, green=r, orange=o, pink=p, purple=u, red=e, white=w, yellow=y (12 distinct values)\n",
        "- stalk-shape: enlarging=e, tapering=t (2 distinct values)\n",
        "- stalk-root: bulbous=b, club=c, cup=u, equal=e, rhizomorphs=z, rooted=r, missing=? (7 distinct values)\n",
        "- stalk-surface-above-ring: fibrous=f, scaly=y, silky=k, smooth=s (4 distinct values)\n",
        "- stalk-surface-below-ring: fibrous=f, scaly=y, silky=k, smooth=s (4 distinct values)\n",
        "- stalk-color-above-ring: brown=n, buff=b, cinnamon=c, gray=g, orange=o, pink=p, red=e, white=w, yellow=y (9 distinct values)\n",
        "- stalk-color-below-ring: brown=n, buff=b, cinnamon=c, gray=g, orange=o, pink=p, red=e, white=w, yellow=y (9 distinct values)\n",
        "- veil-type: partial=p, universal=u (2 distinct values)\n",
        "- veil-color: brown=n, orange=o, white=w, yellow=y (4 distinct values)\n",
        "- ring-number: none=n, one=o, two=t (3 distinct values)\n",
        "- ring-type: cobwebby=c, evanescent=e, flaring=f, large=l, none=n, pendant=p,sheathing=s, zone=z (8 distinct values)\n",
        "- spore-print-color: black=k, brown=n, buff=b, chocolate=h, green=r, orange=o,purple=u, white=w, yellow=y (9 distinct values)\n",
        "- population: abundant=a, clustered=c, numerous=n, scattered=s, several=v, solitary=y (6 distinct values)\n",
        "- habitat: grasses=g, leaves=l, meadows=m, paths=p, urban=u, waste=w, woods=d (7 distinct values)"
      ],
      "metadata": {
        "id": "HlteZQ2EVOhi"
      }
    },
    {
      "cell_type": "markdown",
      "source": [
        "# **Library Preparation**"
      ],
      "metadata": {
        "id": "WpWivnw_WmUP"
      }
    },
    {
      "cell_type": "code",
      "source": [
        "# Imports the necessary libraries.\n",
        "import pandas as pd\n",
        "import numpy as np\n",
        "import matplotlib.pyplot as plt\n",
        "import seaborn as sns"
      ],
      "metadata": {
        "id": "f3cQ-LPmWBJQ"
      },
      "execution_count": 1,
      "outputs": []
    },
    {
      "cell_type": "markdown",
      "source": [
        "- In case Dython is not installed, the following code block will install Dython in order to perform correlation heatmap generation with this dataset.\n",
        "- Note that this may require a restart of the runtime to get the remainder of code to work!\n",
        "- Dython website: http://shakedzy.xyz/dython/"
      ],
      "metadata": {
        "id": "ySmlH7B68E9M"
      }
    },
    {
      "cell_type": "code",
      "source": [
        "# Installs Dython into Python.\n",
        "# Note: Will prompt a runtime restart if applicable!\n",
        "!pip install dython"
      ],
      "metadata": {
        "colab": {
          "base_uri": "https://localhost:8080/"
        },
        "id": "be0GKQ7z8SYM",
        "outputId": "0105616b-50d9-4052-cd6e-960c8a723e25"
      },
      "execution_count": 2,
      "outputs": [
        {
          "output_type": "stream",
          "name": "stdout",
          "text": [
            "Requirement already satisfied: dython in /usr/local/lib/python3.7/dist-packages (0.7.1.post3)\n",
            "Requirement already satisfied: pandas>=1.3.2 in /usr/local/lib/python3.7/dist-packages (from dython) (1.3.5)\n",
            "Requirement already satisfied: numpy>=1.19.5 in /usr/local/lib/python3.7/dist-packages (from dython) (1.21.6)\n",
            "Requirement already satisfied: scipy>=1.7.1 in /usr/local/lib/python3.7/dist-packages (from dython) (1.7.3)\n",
            "Requirement already satisfied: seaborn>=0.11.0 in /usr/local/lib/python3.7/dist-packages (from dython) (0.11.2)\n",
            "Requirement already satisfied: matplotlib>=3.4.3 in /usr/local/lib/python3.7/dist-packages (from dython) (3.5.2)\n",
            "Requirement already satisfied: scikit-learn>=0.24.2 in /usr/local/lib/python3.7/dist-packages (from dython) (1.0.2)\n",
            "Requirement already satisfied: scikit-plot>=0.3.7 in /usr/local/lib/python3.7/dist-packages (from dython) (0.3.7)\n",
            "Requirement already satisfied: packaging>=20.0 in /usr/local/lib/python3.7/dist-packages (from matplotlib>=3.4.3->dython) (21.3)\n",
            "Requirement already satisfied: fonttools>=4.22.0 in /usr/local/lib/python3.7/dist-packages (from matplotlib>=3.4.3->dython) (4.33.3)\n",
            "Requirement already satisfied: cycler>=0.10 in /usr/local/lib/python3.7/dist-packages (from matplotlib>=3.4.3->dython) (0.11.0)\n",
            "Requirement already satisfied: kiwisolver>=1.0.1 in /usr/local/lib/python3.7/dist-packages (from matplotlib>=3.4.3->dython) (1.4.2)\n",
            "Requirement already satisfied: pillow>=6.2.0 in /usr/local/lib/python3.7/dist-packages (from matplotlib>=3.4.3->dython) (7.1.2)\n",
            "Requirement already satisfied: pyparsing>=2.2.1 in /usr/local/lib/python3.7/dist-packages (from matplotlib>=3.4.3->dython) (3.0.8)\n",
            "Requirement already satisfied: python-dateutil>=2.7 in /usr/local/lib/python3.7/dist-packages (from matplotlib>=3.4.3->dython) (2.8.2)\n",
            "Requirement already satisfied: typing-extensions in /usr/local/lib/python3.7/dist-packages (from kiwisolver>=1.0.1->matplotlib>=3.4.3->dython) (4.2.0)\n",
            "Requirement already satisfied: pytz>=2017.3 in /usr/local/lib/python3.7/dist-packages (from pandas>=1.3.2->dython) (2022.1)\n",
            "Requirement already satisfied: six>=1.5 in /usr/local/lib/python3.7/dist-packages (from python-dateutil>=2.7->matplotlib>=3.4.3->dython) (1.15.0)\n",
            "Requirement already satisfied: threadpoolctl>=2.0.0 in /usr/local/lib/python3.7/dist-packages (from scikit-learn>=0.24.2->dython) (3.1.0)\n",
            "Requirement already satisfied: joblib>=0.11 in /usr/local/lib/python3.7/dist-packages (from scikit-learn>=0.24.2->dython) (1.1.0)\n"
          ]
        }
      ]
    },
    {
      "cell_type": "code",
      "source": [
        "# Imports the necessary Dython libraries.\n",
        "from dython.nominal import associations"
      ],
      "metadata": {
        "id": "XBT90aaS8WGu"
      },
      "execution_count": 3,
      "outputs": []
    },
    {
      "cell_type": "markdown",
      "source": [
        "# **Data Loading and Data Overview**"
      ],
      "metadata": {
        "id": "WGh0DCNOaNVj"
      }
    },
    {
      "cell_type": "code",
      "source": [
        "# Mounting of data from Google Drive.\n",
        "from google.colab import drive\n",
        "drive.mount('/content/drive')"
      ],
      "metadata": {
        "colab": {
          "base_uri": "https://localhost:8080/"
        },
        "id": "nJ6B9izXWd8J",
        "outputId": "deabbcc2-64d0-4f8e-c0c4-487d09993461"
      },
      "execution_count": 4,
      "outputs": [
        {
          "output_type": "stream",
          "name": "stdout",
          "text": [
            "Mounted at /content/drive\n"
          ]
        }
      ]
    },
    {
      "cell_type": "markdown",
      "source": [
        "- Let's examine the dataset in depth."
      ],
      "metadata": {
        "id": "HtUptEfAaIC9"
      }
    },
    {
      "cell_type": "code",
      "execution_count": 5,
      "metadata": {
        "colab": {
          "base_uri": "https://localhost:8080/",
          "height": 352
        },
        "id": "w2PNBLILTh3d",
        "outputId": "7640864b-5db3-43b4-9d43-86159c5dd0a0"
      },
      "outputs": [
        {
          "output_type": "execute_result",
          "data": {
            "text/plain": [
              "  class cap-shape cap-surface cap-color bruises odor gill-attachment  \\\n",
              "0     p         x           s         n       t    p               f   \n",
              "1     e         x           s         y       t    a               f   \n",
              "2     e         b           s         w       t    l               f   \n",
              "3     p         x           y         w       t    p               f   \n",
              "4     e         x           s         g       f    n               f   \n",
              "\n",
              "  gill-spacing gill-size gill-color  ... stalk-surface-below-ring  \\\n",
              "0            c         n          k  ...                        s   \n",
              "1            c         b          k  ...                        s   \n",
              "2            c         b          n  ...                        s   \n",
              "3            c         n          n  ...                        s   \n",
              "4            w         b          k  ...                        s   \n",
              "\n",
              "  stalk-color-above-ring stalk-color-below-ring veil-type veil-color  \\\n",
              "0                      w                      w         p          w   \n",
              "1                      w                      w         p          w   \n",
              "2                      w                      w         p          w   \n",
              "3                      w                      w         p          w   \n",
              "4                      w                      w         p          w   \n",
              "\n",
              "  ring-number ring-type spore-print-color population habitat  \n",
              "0           o         p                 k          s       u  \n",
              "1           o         p                 n          n       g  \n",
              "2           o         p                 n          n       m  \n",
              "3           o         p                 k          s       u  \n",
              "4           o         e                 n          a       g  \n",
              "\n",
              "[5 rows x 23 columns]"
            ],
            "text/html": [
              "\n",
              "  <div id=\"df-749e430f-ce34-4b76-8975-b0608f615e78\">\n",
              "    <div class=\"colab-df-container\">\n",
              "      <div>\n",
              "<style scoped>\n",
              "    .dataframe tbody tr th:only-of-type {\n",
              "        vertical-align: middle;\n",
              "    }\n",
              "\n",
              "    .dataframe tbody tr th {\n",
              "        vertical-align: top;\n",
              "    }\n",
              "\n",
              "    .dataframe thead th {\n",
              "        text-align: right;\n",
              "    }\n",
              "</style>\n",
              "<table border=\"1\" class=\"dataframe\">\n",
              "  <thead>\n",
              "    <tr style=\"text-align: right;\">\n",
              "      <th></th>\n",
              "      <th>class</th>\n",
              "      <th>cap-shape</th>\n",
              "      <th>cap-surface</th>\n",
              "      <th>cap-color</th>\n",
              "      <th>bruises</th>\n",
              "      <th>odor</th>\n",
              "      <th>gill-attachment</th>\n",
              "      <th>gill-spacing</th>\n",
              "      <th>gill-size</th>\n",
              "      <th>gill-color</th>\n",
              "      <th>...</th>\n",
              "      <th>stalk-surface-below-ring</th>\n",
              "      <th>stalk-color-above-ring</th>\n",
              "      <th>stalk-color-below-ring</th>\n",
              "      <th>veil-type</th>\n",
              "      <th>veil-color</th>\n",
              "      <th>ring-number</th>\n",
              "      <th>ring-type</th>\n",
              "      <th>spore-print-color</th>\n",
              "      <th>population</th>\n",
              "      <th>habitat</th>\n",
              "    </tr>\n",
              "  </thead>\n",
              "  <tbody>\n",
              "    <tr>\n",
              "      <th>0</th>\n",
              "      <td>p</td>\n",
              "      <td>x</td>\n",
              "      <td>s</td>\n",
              "      <td>n</td>\n",
              "      <td>t</td>\n",
              "      <td>p</td>\n",
              "      <td>f</td>\n",
              "      <td>c</td>\n",
              "      <td>n</td>\n",
              "      <td>k</td>\n",
              "      <td>...</td>\n",
              "      <td>s</td>\n",
              "      <td>w</td>\n",
              "      <td>w</td>\n",
              "      <td>p</td>\n",
              "      <td>w</td>\n",
              "      <td>o</td>\n",
              "      <td>p</td>\n",
              "      <td>k</td>\n",
              "      <td>s</td>\n",
              "      <td>u</td>\n",
              "    </tr>\n",
              "    <tr>\n",
              "      <th>1</th>\n",
              "      <td>e</td>\n",
              "      <td>x</td>\n",
              "      <td>s</td>\n",
              "      <td>y</td>\n",
              "      <td>t</td>\n",
              "      <td>a</td>\n",
              "      <td>f</td>\n",
              "      <td>c</td>\n",
              "      <td>b</td>\n",
              "      <td>k</td>\n",
              "      <td>...</td>\n",
              "      <td>s</td>\n",
              "      <td>w</td>\n",
              "      <td>w</td>\n",
              "      <td>p</td>\n",
              "      <td>w</td>\n",
              "      <td>o</td>\n",
              "      <td>p</td>\n",
              "      <td>n</td>\n",
              "      <td>n</td>\n",
              "      <td>g</td>\n",
              "    </tr>\n",
              "    <tr>\n",
              "      <th>2</th>\n",
              "      <td>e</td>\n",
              "      <td>b</td>\n",
              "      <td>s</td>\n",
              "      <td>w</td>\n",
              "      <td>t</td>\n",
              "      <td>l</td>\n",
              "      <td>f</td>\n",
              "      <td>c</td>\n",
              "      <td>b</td>\n",
              "      <td>n</td>\n",
              "      <td>...</td>\n",
              "      <td>s</td>\n",
              "      <td>w</td>\n",
              "      <td>w</td>\n",
              "      <td>p</td>\n",
              "      <td>w</td>\n",
              "      <td>o</td>\n",
              "      <td>p</td>\n",
              "      <td>n</td>\n",
              "      <td>n</td>\n",
              "      <td>m</td>\n",
              "    </tr>\n",
              "    <tr>\n",
              "      <th>3</th>\n",
              "      <td>p</td>\n",
              "      <td>x</td>\n",
              "      <td>y</td>\n",
              "      <td>w</td>\n",
              "      <td>t</td>\n",
              "      <td>p</td>\n",
              "      <td>f</td>\n",
              "      <td>c</td>\n",
              "      <td>n</td>\n",
              "      <td>n</td>\n",
              "      <td>...</td>\n",
              "      <td>s</td>\n",
              "      <td>w</td>\n",
              "      <td>w</td>\n",
              "      <td>p</td>\n",
              "      <td>w</td>\n",
              "      <td>o</td>\n",
              "      <td>p</td>\n",
              "      <td>k</td>\n",
              "      <td>s</td>\n",
              "      <td>u</td>\n",
              "    </tr>\n",
              "    <tr>\n",
              "      <th>4</th>\n",
              "      <td>e</td>\n",
              "      <td>x</td>\n",
              "      <td>s</td>\n",
              "      <td>g</td>\n",
              "      <td>f</td>\n",
              "      <td>n</td>\n",
              "      <td>f</td>\n",
              "      <td>w</td>\n",
              "      <td>b</td>\n",
              "      <td>k</td>\n",
              "      <td>...</td>\n",
              "      <td>s</td>\n",
              "      <td>w</td>\n",
              "      <td>w</td>\n",
              "      <td>p</td>\n",
              "      <td>w</td>\n",
              "      <td>o</td>\n",
              "      <td>e</td>\n",
              "      <td>n</td>\n",
              "      <td>a</td>\n",
              "      <td>g</td>\n",
              "    </tr>\n",
              "  </tbody>\n",
              "</table>\n",
              "<p>5 rows × 23 columns</p>\n",
              "</div>\n",
              "      <button class=\"colab-df-convert\" onclick=\"convertToInteractive('df-749e430f-ce34-4b76-8975-b0608f615e78')\"\n",
              "              title=\"Convert this dataframe to an interactive table.\"\n",
              "              style=\"display:none;\">\n",
              "        \n",
              "  <svg xmlns=\"http://www.w3.org/2000/svg\" height=\"24px\"viewBox=\"0 0 24 24\"\n",
              "       width=\"24px\">\n",
              "    <path d=\"M0 0h24v24H0V0z\" fill=\"none\"/>\n",
              "    <path d=\"M18.56 5.44l.94 2.06.94-2.06 2.06-.94-2.06-.94-.94-2.06-.94 2.06-2.06.94zm-11 1L8.5 8.5l.94-2.06 2.06-.94-2.06-.94L8.5 2.5l-.94 2.06-2.06.94zm10 10l.94 2.06.94-2.06 2.06-.94-2.06-.94-.94-2.06-.94 2.06-2.06.94z\"/><path d=\"M17.41 7.96l-1.37-1.37c-.4-.4-.92-.59-1.43-.59-.52 0-1.04.2-1.43.59L10.3 9.45l-7.72 7.72c-.78.78-.78 2.05 0 2.83L4 21.41c.39.39.9.59 1.41.59.51 0 1.02-.2 1.41-.59l7.78-7.78 2.81-2.81c.8-.78.8-2.07 0-2.86zM5.41 20L4 18.59l7.72-7.72 1.47 1.35L5.41 20z\"/>\n",
              "  </svg>\n",
              "      </button>\n",
              "      \n",
              "  <style>\n",
              "    .colab-df-container {\n",
              "      display:flex;\n",
              "      flex-wrap:wrap;\n",
              "      gap: 12px;\n",
              "    }\n",
              "\n",
              "    .colab-df-convert {\n",
              "      background-color: #E8F0FE;\n",
              "      border: none;\n",
              "      border-radius: 50%;\n",
              "      cursor: pointer;\n",
              "      display: none;\n",
              "      fill: #1967D2;\n",
              "      height: 32px;\n",
              "      padding: 0 0 0 0;\n",
              "      width: 32px;\n",
              "    }\n",
              "\n",
              "    .colab-df-convert:hover {\n",
              "      background-color: #E2EBFA;\n",
              "      box-shadow: 0px 1px 2px rgba(60, 64, 67, 0.3), 0px 1px 3px 1px rgba(60, 64, 67, 0.15);\n",
              "      fill: #174EA6;\n",
              "    }\n",
              "\n",
              "    [theme=dark] .colab-df-convert {\n",
              "      background-color: #3B4455;\n",
              "      fill: #D2E3FC;\n",
              "    }\n",
              "\n",
              "    [theme=dark] .colab-df-convert:hover {\n",
              "      background-color: #434B5C;\n",
              "      box-shadow: 0px 1px 3px 1px rgba(0, 0, 0, 0.15);\n",
              "      filter: drop-shadow(0px 1px 2px rgba(0, 0, 0, 0.3));\n",
              "      fill: #FFFFFF;\n",
              "    }\n",
              "  </style>\n",
              "\n",
              "      <script>\n",
              "        const buttonEl =\n",
              "          document.querySelector('#df-749e430f-ce34-4b76-8975-b0608f615e78 button.colab-df-convert');\n",
              "        buttonEl.style.display =\n",
              "          google.colab.kernel.accessAllowed ? 'block' : 'none';\n",
              "\n",
              "        async function convertToInteractive(key) {\n",
              "          const element = document.querySelector('#df-749e430f-ce34-4b76-8975-b0608f615e78');\n",
              "          const dataTable =\n",
              "            await google.colab.kernel.invokeFunction('convertToInteractive',\n",
              "                                                     [key], {});\n",
              "          if (!dataTable) return;\n",
              "\n",
              "          const docLinkHtml = 'Like what you see? Visit the ' +\n",
              "            '<a target=\"_blank\" href=https://colab.research.google.com/notebooks/data_table.ipynb>data table notebook</a>'\n",
              "            + ' to learn more about interactive tables.';\n",
              "          element.innerHTML = '';\n",
              "          dataTable['output_type'] = 'display_data';\n",
              "          await google.colab.output.renderOutput(dataTable, element);\n",
              "          const docLink = document.createElement('div');\n",
              "          docLink.innerHTML = docLinkHtml;\n",
              "          element.appendChild(docLink);\n",
              "        }\n",
              "      </script>\n",
              "    </div>\n",
              "  </div>\n",
              "  "
            ]
          },
          "metadata": {},
          "execution_count": 5
        }
      ],
      "source": [
        "# Load the mushroom dataset into Python.\n",
        "mushroom_file = '/content/drive/MyDrive/Coding Dojo/Machine Learning/mushrooms.csv'\n",
        "mushrooms_df = pd.read_csv(mushroom_file)\n",
        "mushrooms_df.head()"
      ]
    },
    {
      "cell_type": "code",
      "source": [
        "# Get an overview of the mushroom dataset.\n",
        "mushrooms_df.info()"
      ],
      "metadata": {
        "colab": {
          "base_uri": "https://localhost:8080/"
        },
        "id": "p75d-J8LZ1de",
        "outputId": "626eba9e-01d0-4782-b3c0-f71972e61b7a"
      },
      "execution_count": 6,
      "outputs": [
        {
          "output_type": "stream",
          "name": "stdout",
          "text": [
            "<class 'pandas.core.frame.DataFrame'>\n",
            "RangeIndex: 8124 entries, 0 to 8123\n",
            "Data columns (total 23 columns):\n",
            " #   Column                    Non-Null Count  Dtype \n",
            "---  ------                    --------------  ----- \n",
            " 0   class                     8124 non-null   object\n",
            " 1   cap-shape                 8124 non-null   object\n",
            " 2   cap-surface               8124 non-null   object\n",
            " 3   cap-color                 8124 non-null   object\n",
            " 4   bruises                   8124 non-null   object\n",
            " 5   odor                      8124 non-null   object\n",
            " 6   gill-attachment           8124 non-null   object\n",
            " 7   gill-spacing              8124 non-null   object\n",
            " 8   gill-size                 8124 non-null   object\n",
            " 9   gill-color                8124 non-null   object\n",
            " 10  stalk-shape               8124 non-null   object\n",
            " 11  stalk-root                8124 non-null   object\n",
            " 12  stalk-surface-above-ring  8124 non-null   object\n",
            " 13  stalk-surface-below-ring  8124 non-null   object\n",
            " 14  stalk-color-above-ring    8124 non-null   object\n",
            " 15  stalk-color-below-ring    8124 non-null   object\n",
            " 16  veil-type                 8124 non-null   object\n",
            " 17  veil-color                8124 non-null   object\n",
            " 18  ring-number               8124 non-null   object\n",
            " 19  ring-type                 8124 non-null   object\n",
            " 20  spore-print-color         8124 non-null   object\n",
            " 21  population                8124 non-null   object\n",
            " 22  habitat                   8124 non-null   object\n",
            "dtypes: object(23)\n",
            "memory usage: 1.4+ MB\n"
          ]
        }
      ]
    },
    {
      "cell_type": "code",
      "source": [
        "# Check for duplicated entries in the dataset.\n",
        "mushrooms_df.duplicated().sum()"
      ],
      "metadata": {
        "colab": {
          "base_uri": "https://localhost:8080/"
        },
        "id": "2mUmgAY2aDbm",
        "outputId": "16ffb076-6e13-43dd-bfb9-f3c83bbe3685"
      },
      "execution_count": 7,
      "outputs": [
        {
          "output_type": "execute_result",
          "data": {
            "text/plain": [
              "0"
            ]
          },
          "metadata": {},
          "execution_count": 7
        }
      ]
    },
    {
      "cell_type": "code",
      "source": [
        "# Check for missing values in each column.\n",
        "mushrooms_df.isna().sum()"
      ],
      "metadata": {
        "colab": {
          "base_uri": "https://localhost:8080/"
        },
        "id": "s-l7dtodZ88s",
        "outputId": "0614fba3-f9c9-4d2f-c110-7fc8aeac5121"
      },
      "execution_count": 8,
      "outputs": [
        {
          "output_type": "execute_result",
          "data": {
            "text/plain": [
              "class                       0\n",
              "cap-shape                   0\n",
              "cap-surface                 0\n",
              "cap-color                   0\n",
              "bruises                     0\n",
              "odor                        0\n",
              "gill-attachment             0\n",
              "gill-spacing                0\n",
              "gill-size                   0\n",
              "gill-color                  0\n",
              "stalk-shape                 0\n",
              "stalk-root                  0\n",
              "stalk-surface-above-ring    0\n",
              "stalk-surface-below-ring    0\n",
              "stalk-color-above-ring      0\n",
              "stalk-color-below-ring      0\n",
              "veil-type                   0\n",
              "veil-color                  0\n",
              "ring-number                 0\n",
              "ring-type                   0\n",
              "spore-print-color           0\n",
              "population                  0\n",
              "habitat                     0\n",
              "dtype: int64"
            ]
          },
          "metadata": {},
          "execution_count": 8
        }
      ]
    },
    {
      "cell_type": "code",
      "source": [
        "# Check the number of rows and columns in this dataset.\n",
        "mushrooms_df.shape"
      ],
      "metadata": {
        "colab": {
          "base_uri": "https://localhost:8080/"
        },
        "id": "WSYTy-GHcCIK",
        "outputId": "b68ba934-2065-43bf-8f37-20d837657aeb"
      },
      "execution_count": 9,
      "outputs": [
        {
          "output_type": "execute_result",
          "data": {
            "text/plain": [
              "(8124, 23)"
            ]
          },
          "metadata": {},
          "execution_count": 9
        }
      ]
    },
    {
      "cell_type": "markdown",
      "source": [
        "- So far, no duplicated entries or missing values in the dataset.\n",
        "- The target variable is the classification of the mushroom as either edible or poisonous ('class' column). Therefore, this will be a classification problem.\n",
        "- There are 8124 entries and 22 features in this dataset.\n",
        "- I do not really see much data cleaning issues involved with imputations and datatype issues. However, there are a lot of features involved with this dataset, so there may be a potential for multicollinearity as we perform our modeling and classification predictions.\n",
        "- Also, there may be some columns that may have to be reclassified based on nominal or ordinal information. This will have to be addressed prior to validation splitting.\n",
        "- All in all, this is a very interesting dataset that intrigues me a lot."
      ],
      "metadata": {
        "id": "_boXIaJ_bcSg"
      }
    },
    {
      "cell_type": "markdown",
      "source": [
        "# **Data Cleaning**"
      ],
      "metadata": {
        "id": "ztQULuN22fxb"
      }
    },
    {
      "cell_type": "markdown",
      "source": [
        "- We have previously confirmed that there are no missing values or duplicated entries in the dataset.\n",
        "- All of the columns seem to be object datatypes, based on what values are defined in the data dictionary.\n",
        "- Now, let's delve further into what values lie within the columns.\n",
        "- Let's get a unique value count for each column in the dataset.\n",
        "- Note that some of the values in the data dictionary may not show up in this dataset! As long as the unique value count for each column is less than or equal to the dataset, the dataset should be consistent.\n",
        "- Source: https://www.geeksforgeeks.org/how-to-count-distinct-values-of-a-pandas-dataframe-column/"
      ],
      "metadata": {
        "id": "vondL_gd2iPn"
      }
    },
    {
      "cell_type": "code",
      "source": [
        "# Determine the number of unique values in each column of the dataset.\n",
        "n = mushrooms_df.nunique(axis=0)\n",
        "\n",
        "# I have set display.max_rows option to None to expand values completely.\n",
        "pd.set_option('display.max_rows', None)\n",
        "\n",
        "# Print a list of columns and the corresponding unique values.\n",
        "print(\"No.of.unique values in each column :\\n\",n)\n",
        "\n",
        "# After completion of printing column values,\n",
        "# I have set display.max_rows option to default of 10.\n",
        "pd.set_option('display.max_rows', 10)"
      ],
      "metadata": {
        "colab": {
          "base_uri": "https://localhost:8080/"
        },
        "id": "d8SvMLs63obW",
        "outputId": "0c5c0bea-a51a-4919-d7a3-b866750afb8b"
      },
      "execution_count": 10,
      "outputs": [
        {
          "output_type": "stream",
          "name": "stdout",
          "text": [
            "No.of.unique values in each column :\n",
            " class                        2\n",
            "cap-shape                    6\n",
            "cap-surface                  4\n",
            "cap-color                   10\n",
            "bruises                      2\n",
            "odor                         9\n",
            "gill-attachment              2\n",
            "gill-spacing                 2\n",
            "gill-size                    2\n",
            "gill-color                  12\n",
            "stalk-shape                  2\n",
            "stalk-root                   5\n",
            "stalk-surface-above-ring     4\n",
            "stalk-surface-below-ring     4\n",
            "stalk-color-above-ring       9\n",
            "stalk-color-below-ring       9\n",
            "veil-type                    1\n",
            "veil-color                   4\n",
            "ring-number                  3\n",
            "ring-type                    5\n",
            "spore-print-color            9\n",
            "population                   6\n",
            "habitat                      7\n",
            "dtype: int64\n"
          ]
        }
      ]
    },
    {
      "cell_type": "code",
      "source": [
        "# Lets create an index to help our analysis with categorical categories.\n",
        "# str_cols contains the columns in the object datatype.\n",
        "\n",
        "dtypes = mushrooms_df.dtypes\n",
        "str_cols = dtypes[dtypes == 'object'].index\n",
        "str_cols"
      ],
      "metadata": {
        "colab": {
          "base_uri": "https://localhost:8080/"
        },
        "id": "tbXd-2RP2_t2",
        "outputId": "af3014da-e324-437f-934f-72cabd01224d"
      },
      "execution_count": 11,
      "outputs": [
        {
          "output_type": "execute_result",
          "data": {
            "text/plain": [
              "Index(['class', 'cap-shape', 'cap-surface', 'cap-color', 'bruises', 'odor',\n",
              "       'gill-attachment', 'gill-spacing', 'gill-size', 'gill-color',\n",
              "       'stalk-shape', 'stalk-root', 'stalk-surface-above-ring',\n",
              "       'stalk-surface-below-ring', 'stalk-color-above-ring',\n",
              "       'stalk-color-below-ring', 'veil-type', 'veil-color', 'ring-number',\n",
              "       'ring-type', 'spore-print-color', 'population', 'habitat'],\n",
              "      dtype='object')"
            ]
          },
          "metadata": {},
          "execution_count": 11
        }
      ]
    },
    {
      "cell_type": "code",
      "source": [
        "# Let's go ahead and print out all the values associated with those columns.\n",
        "# I have set display.max_rows option to None to expand values completely.\n",
        "pd.set_option('display.max_rows', None)\n",
        "for col in str_cols:\n",
        "  print(f\"- Column= {col}\")\n",
        "  print(mushrooms_df[col].value_counts(dropna=False))\n",
        "  print('\\n\\n')\n",
        "\n",
        "# After completion of printing column values,\n",
        "# I have set display.max_rows option to default of 10.\n",
        "pd.set_option('display.max_rows', 10)"
      ],
      "metadata": {
        "colab": {
          "base_uri": "https://localhost:8080/"
        },
        "id": "D5r0NP9a3Oyz",
        "outputId": "55f64b35-a588-456f-d753-5536773ed724"
      },
      "execution_count": 12,
      "outputs": [
        {
          "output_type": "stream",
          "name": "stdout",
          "text": [
            "- Column= class\n",
            "e    4208\n",
            "p    3916\n",
            "Name: class, dtype: int64\n",
            "\n",
            "\n",
            "\n",
            "- Column= cap-shape\n",
            "x    3656\n",
            "f    3152\n",
            "k     828\n",
            "b     452\n",
            "s      32\n",
            "c       4\n",
            "Name: cap-shape, dtype: int64\n",
            "\n",
            "\n",
            "\n",
            "- Column= cap-surface\n",
            "y    3244\n",
            "s    2556\n",
            "f    2320\n",
            "g       4\n",
            "Name: cap-surface, dtype: int64\n",
            "\n",
            "\n",
            "\n",
            "- Column= cap-color\n",
            "n    2284\n",
            "g    1840\n",
            "e    1500\n",
            "y    1072\n",
            "w    1040\n",
            "b     168\n",
            "p     144\n",
            "c      44\n",
            "u      16\n",
            "r      16\n",
            "Name: cap-color, dtype: int64\n",
            "\n",
            "\n",
            "\n",
            "- Column= bruises\n",
            "f    4748\n",
            "t    3376\n",
            "Name: bruises, dtype: int64\n",
            "\n",
            "\n",
            "\n",
            "- Column= odor\n",
            "n    3528\n",
            "f    2160\n",
            "y     576\n",
            "s     576\n",
            "a     400\n",
            "l     400\n",
            "p     256\n",
            "c     192\n",
            "m      36\n",
            "Name: odor, dtype: int64\n",
            "\n",
            "\n",
            "\n",
            "- Column= gill-attachment\n",
            "f    7914\n",
            "a     210\n",
            "Name: gill-attachment, dtype: int64\n",
            "\n",
            "\n",
            "\n",
            "- Column= gill-spacing\n",
            "c    6812\n",
            "w    1312\n",
            "Name: gill-spacing, dtype: int64\n",
            "\n",
            "\n",
            "\n",
            "- Column= gill-size\n",
            "b    5612\n",
            "n    2512\n",
            "Name: gill-size, dtype: int64\n",
            "\n",
            "\n",
            "\n",
            "- Column= gill-color\n",
            "b    1728\n",
            "p    1492\n",
            "w    1202\n",
            "n    1048\n",
            "g     752\n",
            "h     732\n",
            "u     492\n",
            "k     408\n",
            "e      96\n",
            "y      86\n",
            "o      64\n",
            "r      24\n",
            "Name: gill-color, dtype: int64\n",
            "\n",
            "\n",
            "\n",
            "- Column= stalk-shape\n",
            "t    4608\n",
            "e    3516\n",
            "Name: stalk-shape, dtype: int64\n",
            "\n",
            "\n",
            "\n",
            "- Column= stalk-root\n",
            "b    3776\n",
            "?    2480\n",
            "e    1120\n",
            "c     556\n",
            "r     192\n",
            "Name: stalk-root, dtype: int64\n",
            "\n",
            "\n",
            "\n",
            "- Column= stalk-surface-above-ring\n",
            "s    5176\n",
            "k    2372\n",
            "f     552\n",
            "y      24\n",
            "Name: stalk-surface-above-ring, dtype: int64\n",
            "\n",
            "\n",
            "\n",
            "- Column= stalk-surface-below-ring\n",
            "s    4936\n",
            "k    2304\n",
            "f     600\n",
            "y     284\n",
            "Name: stalk-surface-below-ring, dtype: int64\n",
            "\n",
            "\n",
            "\n",
            "- Column= stalk-color-above-ring\n",
            "w    4464\n",
            "p    1872\n",
            "g     576\n",
            "n     448\n",
            "b     432\n",
            "o     192\n",
            "e      96\n",
            "c      36\n",
            "y       8\n",
            "Name: stalk-color-above-ring, dtype: int64\n",
            "\n",
            "\n",
            "\n",
            "- Column= stalk-color-below-ring\n",
            "w    4384\n",
            "p    1872\n",
            "g     576\n",
            "n     512\n",
            "b     432\n",
            "o     192\n",
            "e      96\n",
            "c      36\n",
            "y      24\n",
            "Name: stalk-color-below-ring, dtype: int64\n",
            "\n",
            "\n",
            "\n",
            "- Column= veil-type\n",
            "p    8124\n",
            "Name: veil-type, dtype: int64\n",
            "\n",
            "\n",
            "\n",
            "- Column= veil-color\n",
            "w    7924\n",
            "n      96\n",
            "o      96\n",
            "y       8\n",
            "Name: veil-color, dtype: int64\n",
            "\n",
            "\n",
            "\n",
            "- Column= ring-number\n",
            "o    7488\n",
            "t     600\n",
            "n      36\n",
            "Name: ring-number, dtype: int64\n",
            "\n",
            "\n",
            "\n",
            "- Column= ring-type\n",
            "p    3968\n",
            "e    2776\n",
            "l    1296\n",
            "f      48\n",
            "n      36\n",
            "Name: ring-type, dtype: int64\n",
            "\n",
            "\n",
            "\n",
            "- Column= spore-print-color\n",
            "w    2388\n",
            "n    1968\n",
            "k    1872\n",
            "h    1632\n",
            "r      72\n",
            "u      48\n",
            "o      48\n",
            "y      48\n",
            "b      48\n",
            "Name: spore-print-color, dtype: int64\n",
            "\n",
            "\n",
            "\n",
            "- Column= population\n",
            "v    4040\n",
            "y    1712\n",
            "s    1248\n",
            "n     400\n",
            "a     384\n",
            "c     340\n",
            "Name: population, dtype: int64\n",
            "\n",
            "\n",
            "\n",
            "- Column= habitat\n",
            "d    3148\n",
            "g    2148\n",
            "p    1144\n",
            "l     832\n",
            "u     368\n",
            "m     292\n",
            "w     192\n",
            "Name: habitat, dtype: int64\n",
            "\n",
            "\n",
            "\n"
          ]
        }
      ]
    },
    {
      "cell_type": "markdown",
      "source": [
        "- Took a lot of time to cross-reference these unique values, but all the columns have the correct values within each column.\n",
        "- This dataset is very clean! Saves me all the hard work of doing so!\n",
        "- Lastly, let's check the dataset target balance and see how balanced the dataset is."
      ],
      "metadata": {
        "id": "fXIyQuQ_8bU2"
      }
    },
    {
      "cell_type": "code",
      "source": [
        "# Check the value counts of the class column.\n",
        "mushrooms_df['class'].value_counts()"
      ],
      "metadata": {
        "colab": {
          "base_uri": "https://localhost:8080/"
        },
        "id": "MOf3AmA8M10U",
        "outputId": "b4e9735a-0580-42d3-b392-c7e6ce3636e8"
      },
      "execution_count": 13,
      "outputs": [
        {
          "output_type": "execute_result",
          "data": {
            "text/plain": [
              "e    4208\n",
              "p    3916\n",
              "Name: class, dtype: int64"
            ]
          },
          "metadata": {},
          "execution_count": 13
        }
      ]
    },
    {
      "cell_type": "code",
      "source": [
        "# Check the value counts of the class column with normalization.\n",
        "mushrooms_df['class'].value_counts(normalize = True)"
      ],
      "metadata": {
        "colab": {
          "base_uri": "https://localhost:8080/"
        },
        "id": "SSC6n--mNDO_",
        "outputId": "e05d84ef-c3dd-487b-be2e-9f3d2c292b1e"
      },
      "execution_count": 14,
      "outputs": [
        {
          "output_type": "execute_result",
          "data": {
            "text/plain": [
              "e    0.517971\n",
              "p    0.482029\n",
              "Name: class, dtype: float64"
            ]
          },
          "metadata": {},
          "execution_count": 14
        }
      ]
    },
    {
      "cell_type": "markdown",
      "source": [
        "- The dataset is fairly balanced, which should make exploration and modeling analysis much more consistent."
      ],
      "metadata": {
        "id": "BPFu8HHyNHJh"
      }
    },
    {
      "cell_type": "markdown",
      "source": [
        "# **Data Exploration**"
      ],
      "metadata": {
        "id": "wJcXxYti8khr"
      }
    },
    {
      "cell_type": "markdown",
      "source": [
        "## **Dataset Splitting**"
      ],
      "metadata": {
        "id": "N5xdqnT34xuj"
      }
    },
    {
      "cell_type": "markdown",
      "source": [
        "- Let's split the dataset into the poisonous mushrooms and the edible mushrooms for exploratory purposes."
      ],
      "metadata": {
        "id": "0IzCxN64LkcA"
      }
    },
    {
      "cell_type": "code",
      "source": [
        "# Create the edible mushroom subset.\n",
        "edible_df = mushrooms_df.loc[mushrooms_df['class'] == 'e', :]\n",
        "edible_df.head()"
      ],
      "metadata": {
        "colab": {
          "base_uri": "https://localhost:8080/",
          "height": 352
        },
        "id": "qkyyswV_LpTp",
        "outputId": "a4c79b5e-b3ca-457a-81ee-962dcde64f7e"
      },
      "execution_count": 15,
      "outputs": [
        {
          "output_type": "execute_result",
          "data": {
            "text/plain": [
              "  class cap-shape cap-surface cap-color bruises odor gill-attachment  \\\n",
              "1     e         x           s         y       t    a               f   \n",
              "2     e         b           s         w       t    l               f   \n",
              "4     e         x           s         g       f    n               f   \n",
              "5     e         x           y         y       t    a               f   \n",
              "6     e         b           s         w       t    a               f   \n",
              "\n",
              "  gill-spacing gill-size gill-color  ... stalk-surface-below-ring  \\\n",
              "1            c         b          k  ...                        s   \n",
              "2            c         b          n  ...                        s   \n",
              "4            w         b          k  ...                        s   \n",
              "5            c         b          n  ...                        s   \n",
              "6            c         b          g  ...                        s   \n",
              "\n",
              "  stalk-color-above-ring stalk-color-below-ring veil-type veil-color  \\\n",
              "1                      w                      w         p          w   \n",
              "2                      w                      w         p          w   \n",
              "4                      w                      w         p          w   \n",
              "5                      w                      w         p          w   \n",
              "6                      w                      w         p          w   \n",
              "\n",
              "  ring-number ring-type spore-print-color population habitat  \n",
              "1           o         p                 n          n       g  \n",
              "2           o         p                 n          n       m  \n",
              "4           o         e                 n          a       g  \n",
              "5           o         p                 k          n       g  \n",
              "6           o         p                 k          n       m  \n",
              "\n",
              "[5 rows x 23 columns]"
            ],
            "text/html": [
              "\n",
              "  <div id=\"df-a509d6b4-3109-4697-a7c4-21e0c344473a\">\n",
              "    <div class=\"colab-df-container\">\n",
              "      <div>\n",
              "<style scoped>\n",
              "    .dataframe tbody tr th:only-of-type {\n",
              "        vertical-align: middle;\n",
              "    }\n",
              "\n",
              "    .dataframe tbody tr th {\n",
              "        vertical-align: top;\n",
              "    }\n",
              "\n",
              "    .dataframe thead th {\n",
              "        text-align: right;\n",
              "    }\n",
              "</style>\n",
              "<table border=\"1\" class=\"dataframe\">\n",
              "  <thead>\n",
              "    <tr style=\"text-align: right;\">\n",
              "      <th></th>\n",
              "      <th>class</th>\n",
              "      <th>cap-shape</th>\n",
              "      <th>cap-surface</th>\n",
              "      <th>cap-color</th>\n",
              "      <th>bruises</th>\n",
              "      <th>odor</th>\n",
              "      <th>gill-attachment</th>\n",
              "      <th>gill-spacing</th>\n",
              "      <th>gill-size</th>\n",
              "      <th>gill-color</th>\n",
              "      <th>...</th>\n",
              "      <th>stalk-surface-below-ring</th>\n",
              "      <th>stalk-color-above-ring</th>\n",
              "      <th>stalk-color-below-ring</th>\n",
              "      <th>veil-type</th>\n",
              "      <th>veil-color</th>\n",
              "      <th>ring-number</th>\n",
              "      <th>ring-type</th>\n",
              "      <th>spore-print-color</th>\n",
              "      <th>population</th>\n",
              "      <th>habitat</th>\n",
              "    </tr>\n",
              "  </thead>\n",
              "  <tbody>\n",
              "    <tr>\n",
              "      <th>1</th>\n",
              "      <td>e</td>\n",
              "      <td>x</td>\n",
              "      <td>s</td>\n",
              "      <td>y</td>\n",
              "      <td>t</td>\n",
              "      <td>a</td>\n",
              "      <td>f</td>\n",
              "      <td>c</td>\n",
              "      <td>b</td>\n",
              "      <td>k</td>\n",
              "      <td>...</td>\n",
              "      <td>s</td>\n",
              "      <td>w</td>\n",
              "      <td>w</td>\n",
              "      <td>p</td>\n",
              "      <td>w</td>\n",
              "      <td>o</td>\n",
              "      <td>p</td>\n",
              "      <td>n</td>\n",
              "      <td>n</td>\n",
              "      <td>g</td>\n",
              "    </tr>\n",
              "    <tr>\n",
              "      <th>2</th>\n",
              "      <td>e</td>\n",
              "      <td>b</td>\n",
              "      <td>s</td>\n",
              "      <td>w</td>\n",
              "      <td>t</td>\n",
              "      <td>l</td>\n",
              "      <td>f</td>\n",
              "      <td>c</td>\n",
              "      <td>b</td>\n",
              "      <td>n</td>\n",
              "      <td>...</td>\n",
              "      <td>s</td>\n",
              "      <td>w</td>\n",
              "      <td>w</td>\n",
              "      <td>p</td>\n",
              "      <td>w</td>\n",
              "      <td>o</td>\n",
              "      <td>p</td>\n",
              "      <td>n</td>\n",
              "      <td>n</td>\n",
              "      <td>m</td>\n",
              "    </tr>\n",
              "    <tr>\n",
              "      <th>4</th>\n",
              "      <td>e</td>\n",
              "      <td>x</td>\n",
              "      <td>s</td>\n",
              "      <td>g</td>\n",
              "      <td>f</td>\n",
              "      <td>n</td>\n",
              "      <td>f</td>\n",
              "      <td>w</td>\n",
              "      <td>b</td>\n",
              "      <td>k</td>\n",
              "      <td>...</td>\n",
              "      <td>s</td>\n",
              "      <td>w</td>\n",
              "      <td>w</td>\n",
              "      <td>p</td>\n",
              "      <td>w</td>\n",
              "      <td>o</td>\n",
              "      <td>e</td>\n",
              "      <td>n</td>\n",
              "      <td>a</td>\n",
              "      <td>g</td>\n",
              "    </tr>\n",
              "    <tr>\n",
              "      <th>5</th>\n",
              "      <td>e</td>\n",
              "      <td>x</td>\n",
              "      <td>y</td>\n",
              "      <td>y</td>\n",
              "      <td>t</td>\n",
              "      <td>a</td>\n",
              "      <td>f</td>\n",
              "      <td>c</td>\n",
              "      <td>b</td>\n",
              "      <td>n</td>\n",
              "      <td>...</td>\n",
              "      <td>s</td>\n",
              "      <td>w</td>\n",
              "      <td>w</td>\n",
              "      <td>p</td>\n",
              "      <td>w</td>\n",
              "      <td>o</td>\n",
              "      <td>p</td>\n",
              "      <td>k</td>\n",
              "      <td>n</td>\n",
              "      <td>g</td>\n",
              "    </tr>\n",
              "    <tr>\n",
              "      <th>6</th>\n",
              "      <td>e</td>\n",
              "      <td>b</td>\n",
              "      <td>s</td>\n",
              "      <td>w</td>\n",
              "      <td>t</td>\n",
              "      <td>a</td>\n",
              "      <td>f</td>\n",
              "      <td>c</td>\n",
              "      <td>b</td>\n",
              "      <td>g</td>\n",
              "      <td>...</td>\n",
              "      <td>s</td>\n",
              "      <td>w</td>\n",
              "      <td>w</td>\n",
              "      <td>p</td>\n",
              "      <td>w</td>\n",
              "      <td>o</td>\n",
              "      <td>p</td>\n",
              "      <td>k</td>\n",
              "      <td>n</td>\n",
              "      <td>m</td>\n",
              "    </tr>\n",
              "  </tbody>\n",
              "</table>\n",
              "<p>5 rows × 23 columns</p>\n",
              "</div>\n",
              "      <button class=\"colab-df-convert\" onclick=\"convertToInteractive('df-a509d6b4-3109-4697-a7c4-21e0c344473a')\"\n",
              "              title=\"Convert this dataframe to an interactive table.\"\n",
              "              style=\"display:none;\">\n",
              "        \n",
              "  <svg xmlns=\"http://www.w3.org/2000/svg\" height=\"24px\"viewBox=\"0 0 24 24\"\n",
              "       width=\"24px\">\n",
              "    <path d=\"M0 0h24v24H0V0z\" fill=\"none\"/>\n",
              "    <path d=\"M18.56 5.44l.94 2.06.94-2.06 2.06-.94-2.06-.94-.94-2.06-.94 2.06-2.06.94zm-11 1L8.5 8.5l.94-2.06 2.06-.94-2.06-.94L8.5 2.5l-.94 2.06-2.06.94zm10 10l.94 2.06.94-2.06 2.06-.94-2.06-.94-.94-2.06-.94 2.06-2.06.94z\"/><path d=\"M17.41 7.96l-1.37-1.37c-.4-.4-.92-.59-1.43-.59-.52 0-1.04.2-1.43.59L10.3 9.45l-7.72 7.72c-.78.78-.78 2.05 0 2.83L4 21.41c.39.39.9.59 1.41.59.51 0 1.02-.2 1.41-.59l7.78-7.78 2.81-2.81c.8-.78.8-2.07 0-2.86zM5.41 20L4 18.59l7.72-7.72 1.47 1.35L5.41 20z\"/>\n",
              "  </svg>\n",
              "      </button>\n",
              "      \n",
              "  <style>\n",
              "    .colab-df-container {\n",
              "      display:flex;\n",
              "      flex-wrap:wrap;\n",
              "      gap: 12px;\n",
              "    }\n",
              "\n",
              "    .colab-df-convert {\n",
              "      background-color: #E8F0FE;\n",
              "      border: none;\n",
              "      border-radius: 50%;\n",
              "      cursor: pointer;\n",
              "      display: none;\n",
              "      fill: #1967D2;\n",
              "      height: 32px;\n",
              "      padding: 0 0 0 0;\n",
              "      width: 32px;\n",
              "    }\n",
              "\n",
              "    .colab-df-convert:hover {\n",
              "      background-color: #E2EBFA;\n",
              "      box-shadow: 0px 1px 2px rgba(60, 64, 67, 0.3), 0px 1px 3px 1px rgba(60, 64, 67, 0.15);\n",
              "      fill: #174EA6;\n",
              "    }\n",
              "\n",
              "    [theme=dark] .colab-df-convert {\n",
              "      background-color: #3B4455;\n",
              "      fill: #D2E3FC;\n",
              "    }\n",
              "\n",
              "    [theme=dark] .colab-df-convert:hover {\n",
              "      background-color: #434B5C;\n",
              "      box-shadow: 0px 1px 3px 1px rgba(0, 0, 0, 0.15);\n",
              "      filter: drop-shadow(0px 1px 2px rgba(0, 0, 0, 0.3));\n",
              "      fill: #FFFFFF;\n",
              "    }\n",
              "  </style>\n",
              "\n",
              "      <script>\n",
              "        const buttonEl =\n",
              "          document.querySelector('#df-a509d6b4-3109-4697-a7c4-21e0c344473a button.colab-df-convert');\n",
              "        buttonEl.style.display =\n",
              "          google.colab.kernel.accessAllowed ? 'block' : 'none';\n",
              "\n",
              "        async function convertToInteractive(key) {\n",
              "          const element = document.querySelector('#df-a509d6b4-3109-4697-a7c4-21e0c344473a');\n",
              "          const dataTable =\n",
              "            await google.colab.kernel.invokeFunction('convertToInteractive',\n",
              "                                                     [key], {});\n",
              "          if (!dataTable) return;\n",
              "\n",
              "          const docLinkHtml = 'Like what you see? Visit the ' +\n",
              "            '<a target=\"_blank\" href=https://colab.research.google.com/notebooks/data_table.ipynb>data table notebook</a>'\n",
              "            + ' to learn more about interactive tables.';\n",
              "          element.innerHTML = '';\n",
              "          dataTable['output_type'] = 'display_data';\n",
              "          await google.colab.output.renderOutput(dataTable, element);\n",
              "          const docLink = document.createElement('div');\n",
              "          docLink.innerHTML = docLinkHtml;\n",
              "          element.appendChild(docLink);\n",
              "        }\n",
              "      </script>\n",
              "    </div>\n",
              "  </div>\n",
              "  "
            ]
          },
          "metadata": {},
          "execution_count": 15
        }
      ]
    },
    {
      "cell_type": "code",
      "source": [
        "# Create the poisonous mushroom subset.\n",
        "poisonous_df = mushrooms_df.loc[mushrooms_df['class'] == 'p', :]\n",
        "poisonous_df.head()"
      ],
      "metadata": {
        "colab": {
          "base_uri": "https://localhost:8080/",
          "height": 352
        },
        "id": "YHFKB0ewME6s",
        "outputId": "d6184ce2-9323-449a-9816-b0c6056685ed"
      },
      "execution_count": 16,
      "outputs": [
        {
          "output_type": "execute_result",
          "data": {
            "text/plain": [
              "   class cap-shape cap-surface cap-color bruises odor gill-attachment  \\\n",
              "0      p         x           s         n       t    p               f   \n",
              "3      p         x           y         w       t    p               f   \n",
              "8      p         x           y         w       t    p               f   \n",
              "13     p         x           y         w       t    p               f   \n",
              "17     p         x           s         n       t    p               f   \n",
              "\n",
              "   gill-spacing gill-size gill-color  ... stalk-surface-below-ring  \\\n",
              "0             c         n          k  ...                        s   \n",
              "3             c         n          n  ...                        s   \n",
              "8             c         n          p  ...                        s   \n",
              "13            c         n          k  ...                        s   \n",
              "17            c         n          n  ...                        s   \n",
              "\n",
              "   stalk-color-above-ring stalk-color-below-ring veil-type veil-color  \\\n",
              "0                       w                      w         p          w   \n",
              "3                       w                      w         p          w   \n",
              "8                       w                      w         p          w   \n",
              "13                      w                      w         p          w   \n",
              "17                      w                      w         p          w   \n",
              "\n",
              "   ring-number ring-type spore-print-color population habitat  \n",
              "0            o         p                 k          s       u  \n",
              "3            o         p                 k          s       u  \n",
              "8            o         p                 k          v       g  \n",
              "13           o         p                 n          v       u  \n",
              "17           o         p                 k          s       g  \n",
              "\n",
              "[5 rows x 23 columns]"
            ],
            "text/html": [
              "\n",
              "  <div id=\"df-10a972ee-a855-492b-9183-f5da94289078\">\n",
              "    <div class=\"colab-df-container\">\n",
              "      <div>\n",
              "<style scoped>\n",
              "    .dataframe tbody tr th:only-of-type {\n",
              "        vertical-align: middle;\n",
              "    }\n",
              "\n",
              "    .dataframe tbody tr th {\n",
              "        vertical-align: top;\n",
              "    }\n",
              "\n",
              "    .dataframe thead th {\n",
              "        text-align: right;\n",
              "    }\n",
              "</style>\n",
              "<table border=\"1\" class=\"dataframe\">\n",
              "  <thead>\n",
              "    <tr style=\"text-align: right;\">\n",
              "      <th></th>\n",
              "      <th>class</th>\n",
              "      <th>cap-shape</th>\n",
              "      <th>cap-surface</th>\n",
              "      <th>cap-color</th>\n",
              "      <th>bruises</th>\n",
              "      <th>odor</th>\n",
              "      <th>gill-attachment</th>\n",
              "      <th>gill-spacing</th>\n",
              "      <th>gill-size</th>\n",
              "      <th>gill-color</th>\n",
              "      <th>...</th>\n",
              "      <th>stalk-surface-below-ring</th>\n",
              "      <th>stalk-color-above-ring</th>\n",
              "      <th>stalk-color-below-ring</th>\n",
              "      <th>veil-type</th>\n",
              "      <th>veil-color</th>\n",
              "      <th>ring-number</th>\n",
              "      <th>ring-type</th>\n",
              "      <th>spore-print-color</th>\n",
              "      <th>population</th>\n",
              "      <th>habitat</th>\n",
              "    </tr>\n",
              "  </thead>\n",
              "  <tbody>\n",
              "    <tr>\n",
              "      <th>0</th>\n",
              "      <td>p</td>\n",
              "      <td>x</td>\n",
              "      <td>s</td>\n",
              "      <td>n</td>\n",
              "      <td>t</td>\n",
              "      <td>p</td>\n",
              "      <td>f</td>\n",
              "      <td>c</td>\n",
              "      <td>n</td>\n",
              "      <td>k</td>\n",
              "      <td>...</td>\n",
              "      <td>s</td>\n",
              "      <td>w</td>\n",
              "      <td>w</td>\n",
              "      <td>p</td>\n",
              "      <td>w</td>\n",
              "      <td>o</td>\n",
              "      <td>p</td>\n",
              "      <td>k</td>\n",
              "      <td>s</td>\n",
              "      <td>u</td>\n",
              "    </tr>\n",
              "    <tr>\n",
              "      <th>3</th>\n",
              "      <td>p</td>\n",
              "      <td>x</td>\n",
              "      <td>y</td>\n",
              "      <td>w</td>\n",
              "      <td>t</td>\n",
              "      <td>p</td>\n",
              "      <td>f</td>\n",
              "      <td>c</td>\n",
              "      <td>n</td>\n",
              "      <td>n</td>\n",
              "      <td>...</td>\n",
              "      <td>s</td>\n",
              "      <td>w</td>\n",
              "      <td>w</td>\n",
              "      <td>p</td>\n",
              "      <td>w</td>\n",
              "      <td>o</td>\n",
              "      <td>p</td>\n",
              "      <td>k</td>\n",
              "      <td>s</td>\n",
              "      <td>u</td>\n",
              "    </tr>\n",
              "    <tr>\n",
              "      <th>8</th>\n",
              "      <td>p</td>\n",
              "      <td>x</td>\n",
              "      <td>y</td>\n",
              "      <td>w</td>\n",
              "      <td>t</td>\n",
              "      <td>p</td>\n",
              "      <td>f</td>\n",
              "      <td>c</td>\n",
              "      <td>n</td>\n",
              "      <td>p</td>\n",
              "      <td>...</td>\n",
              "      <td>s</td>\n",
              "      <td>w</td>\n",
              "      <td>w</td>\n",
              "      <td>p</td>\n",
              "      <td>w</td>\n",
              "      <td>o</td>\n",
              "      <td>p</td>\n",
              "      <td>k</td>\n",
              "      <td>v</td>\n",
              "      <td>g</td>\n",
              "    </tr>\n",
              "    <tr>\n",
              "      <th>13</th>\n",
              "      <td>p</td>\n",
              "      <td>x</td>\n",
              "      <td>y</td>\n",
              "      <td>w</td>\n",
              "      <td>t</td>\n",
              "      <td>p</td>\n",
              "      <td>f</td>\n",
              "      <td>c</td>\n",
              "      <td>n</td>\n",
              "      <td>k</td>\n",
              "      <td>...</td>\n",
              "      <td>s</td>\n",
              "      <td>w</td>\n",
              "      <td>w</td>\n",
              "      <td>p</td>\n",
              "      <td>w</td>\n",
              "      <td>o</td>\n",
              "      <td>p</td>\n",
              "      <td>n</td>\n",
              "      <td>v</td>\n",
              "      <td>u</td>\n",
              "    </tr>\n",
              "    <tr>\n",
              "      <th>17</th>\n",
              "      <td>p</td>\n",
              "      <td>x</td>\n",
              "      <td>s</td>\n",
              "      <td>n</td>\n",
              "      <td>t</td>\n",
              "      <td>p</td>\n",
              "      <td>f</td>\n",
              "      <td>c</td>\n",
              "      <td>n</td>\n",
              "      <td>n</td>\n",
              "      <td>...</td>\n",
              "      <td>s</td>\n",
              "      <td>w</td>\n",
              "      <td>w</td>\n",
              "      <td>p</td>\n",
              "      <td>w</td>\n",
              "      <td>o</td>\n",
              "      <td>p</td>\n",
              "      <td>k</td>\n",
              "      <td>s</td>\n",
              "      <td>g</td>\n",
              "    </tr>\n",
              "  </tbody>\n",
              "</table>\n",
              "<p>5 rows × 23 columns</p>\n",
              "</div>\n",
              "      <button class=\"colab-df-convert\" onclick=\"convertToInteractive('df-10a972ee-a855-492b-9183-f5da94289078')\"\n",
              "              title=\"Convert this dataframe to an interactive table.\"\n",
              "              style=\"display:none;\">\n",
              "        \n",
              "  <svg xmlns=\"http://www.w3.org/2000/svg\" height=\"24px\"viewBox=\"0 0 24 24\"\n",
              "       width=\"24px\">\n",
              "    <path d=\"M0 0h24v24H0V0z\" fill=\"none\"/>\n",
              "    <path d=\"M18.56 5.44l.94 2.06.94-2.06 2.06-.94-2.06-.94-.94-2.06-.94 2.06-2.06.94zm-11 1L8.5 8.5l.94-2.06 2.06-.94-2.06-.94L8.5 2.5l-.94 2.06-2.06.94zm10 10l.94 2.06.94-2.06 2.06-.94-2.06-.94-.94-2.06-.94 2.06-2.06.94z\"/><path d=\"M17.41 7.96l-1.37-1.37c-.4-.4-.92-.59-1.43-.59-.52 0-1.04.2-1.43.59L10.3 9.45l-7.72 7.72c-.78.78-.78 2.05 0 2.83L4 21.41c.39.39.9.59 1.41.59.51 0 1.02-.2 1.41-.59l7.78-7.78 2.81-2.81c.8-.78.8-2.07 0-2.86zM5.41 20L4 18.59l7.72-7.72 1.47 1.35L5.41 20z\"/>\n",
              "  </svg>\n",
              "      </button>\n",
              "      \n",
              "  <style>\n",
              "    .colab-df-container {\n",
              "      display:flex;\n",
              "      flex-wrap:wrap;\n",
              "      gap: 12px;\n",
              "    }\n",
              "\n",
              "    .colab-df-convert {\n",
              "      background-color: #E8F0FE;\n",
              "      border: none;\n",
              "      border-radius: 50%;\n",
              "      cursor: pointer;\n",
              "      display: none;\n",
              "      fill: #1967D2;\n",
              "      height: 32px;\n",
              "      padding: 0 0 0 0;\n",
              "      width: 32px;\n",
              "    }\n",
              "\n",
              "    .colab-df-convert:hover {\n",
              "      background-color: #E2EBFA;\n",
              "      box-shadow: 0px 1px 2px rgba(60, 64, 67, 0.3), 0px 1px 3px 1px rgba(60, 64, 67, 0.15);\n",
              "      fill: #174EA6;\n",
              "    }\n",
              "\n",
              "    [theme=dark] .colab-df-convert {\n",
              "      background-color: #3B4455;\n",
              "      fill: #D2E3FC;\n",
              "    }\n",
              "\n",
              "    [theme=dark] .colab-df-convert:hover {\n",
              "      background-color: #434B5C;\n",
              "      box-shadow: 0px 1px 3px 1px rgba(0, 0, 0, 0.15);\n",
              "      filter: drop-shadow(0px 1px 2px rgba(0, 0, 0, 0.3));\n",
              "      fill: #FFFFFF;\n",
              "    }\n",
              "  </style>\n",
              "\n",
              "      <script>\n",
              "        const buttonEl =\n",
              "          document.querySelector('#df-10a972ee-a855-492b-9183-f5da94289078 button.colab-df-convert');\n",
              "        buttonEl.style.display =\n",
              "          google.colab.kernel.accessAllowed ? 'block' : 'none';\n",
              "\n",
              "        async function convertToInteractive(key) {\n",
              "          const element = document.querySelector('#df-10a972ee-a855-492b-9183-f5da94289078');\n",
              "          const dataTable =\n",
              "            await google.colab.kernel.invokeFunction('convertToInteractive',\n",
              "                                                     [key], {});\n",
              "          if (!dataTable) return;\n",
              "\n",
              "          const docLinkHtml = 'Like what you see? Visit the ' +\n",
              "            '<a target=\"_blank\" href=https://colab.research.google.com/notebooks/data_table.ipynb>data table notebook</a>'\n",
              "            + ' to learn more about interactive tables.';\n",
              "          element.innerHTML = '';\n",
              "          dataTable['output_type'] = 'display_data';\n",
              "          await google.colab.output.renderOutput(dataTable, element);\n",
              "          const docLink = document.createElement('div');\n",
              "          docLink.innerHTML = docLinkHtml;\n",
              "          element.appendChild(docLink);\n",
              "        }\n",
              "      </script>\n",
              "    </div>\n",
              "  </div>\n",
              "  "
            ]
          },
          "metadata": {},
          "execution_count": 16
        }
      ]
    },
    {
      "cell_type": "markdown",
      "source": [
        "## **Univariate Visual 1: Mushrooms by Ring Count**"
      ],
      "metadata": {
        "id": "tGpFFy5Q41yg"
      }
    },
    {
      "cell_type": "markdown",
      "source": [
        "- First, let's get the mushroom count for each subset based on number of rings."
      ],
      "metadata": {
        "id": "I7c7vPAB5A56"
      }
    },
    {
      "cell_type": "code",
      "source": [
        "# Find the unique values in the rings column of the original dataset.\n",
        "rings_list = mushrooms_df['ring-number'].unique()\n",
        "rings_list"
      ],
      "metadata": {
        "colab": {
          "base_uri": "https://localhost:8080/"
        },
        "id": "gmLJKgvfA9Cc",
        "outputId": "3be19156-1037-4474-8158-2e4e828c7603"
      },
      "execution_count": 17,
      "outputs": [
        {
          "output_type": "execute_result",
          "data": {
            "text/plain": [
              "array(['o', 't', 'n'], dtype=object)"
            ]
          },
          "metadata": {},
          "execution_count": 17
        }
      ]
    },
    {
      "cell_type": "markdown",
      "source": [
        "- Since ring numbers is an ordinal feature, I will reorganize the order of the list in ascending order.\n",
        "- Source for reordering list: https://www.adamsmith.haus/python/answers/how-to-reorder-a-list-in-python#:~:text=Use%20the%20syntax%20%5Blist%5Bi,element%20to%20get%20from%20list%20.\n",
        "\n"
      ],
      "metadata": {
        "id": "wRT8ftxNC0Nj"
      }
    },
    {
      "cell_type": "code",
      "source": [
        "# Creates an order list, then reorganizes the rings list based on order in order list.\n",
        "rings_order = [2,0,1]\n",
        "rings_list = [rings_list[i] for i in rings_order]\n",
        "rings_list"
      ],
      "metadata": {
        "colab": {
          "base_uri": "https://localhost:8080/"
        },
        "id": "e7ElryypB0CS",
        "outputId": "e69f35e0-5caf-4072-b661-8d8dfb0588a1"
      },
      "execution_count": 18,
      "outputs": [
        {
          "output_type": "execute_result",
          "data": {
            "text/plain": [
              "['n', 'o', 't']"
            ]
          },
          "metadata": {},
          "execution_count": 18
        }
      ]
    },
    {
      "cell_type": "markdown",
      "source": [
        "- Let's get the mushroom counts based on ring number for each subset."
      ],
      "metadata": {
        "id": "aMXKJszeHNzh"
      }
    },
    {
      "cell_type": "code",
      "source": [
        "# Create counts on number of poisonous entries with the corresponding ring numbers.\n",
        "# I will create a for loop to accomplish this.\n",
        "poisonous_rings = []\n",
        "for x in rings_list:\n",
        "  rings = len(poisonous_df.loc[poisonous_df['ring-number'] == x,:])\n",
        "  print(\"Number of poisonous mushrooms with\", x, \"rings:\", rings)\n",
        "  poisonous_rings.append(rings)\n",
        "\n",
        "# Total count of poisonous mushrooms\n",
        "print(\"Total poisonous mushroom count:\", sum(poisonous_rings))"
      ],
      "metadata": {
        "colab": {
          "base_uri": "https://localhost:8080/"
        },
        "id": "RmuMM7R8GepA",
        "outputId": "71b0776a-3f95-4927-8865-d0a0e5506ab7"
      },
      "execution_count": 19,
      "outputs": [
        {
          "output_type": "stream",
          "name": "stdout",
          "text": [
            "Number of poisonous mushrooms with n rings: 36\n",
            "Number of poisonous mushrooms with o rings: 3808\n",
            "Number of poisonous mushrooms with t rings: 72\n",
            "Total poisonous mushroom count: 3916\n"
          ]
        }
      ]
    },
    {
      "cell_type": "code",
      "source": [
        "# Create counts on number of edible entries with the corresponding ring numbers.\n",
        "# I will create a for loop to accomplish this.\n",
        "edible_rings = []\n",
        "for x in rings_list:\n",
        "  rings = len(edible_df.loc[edible_df['ring-number'] == x,:])\n",
        "  print(\"Number of edible mushrooms with\", x, \"rings:\", rings)\n",
        "  edible_rings.append(rings)\n",
        "\n",
        "# Total count of edible mushrooms\n",
        "print(\"Total edible mushroom count:\", sum(edible_rings))"
      ],
      "metadata": {
        "colab": {
          "base_uri": "https://localhost:8080/"
        },
        "id": "tszWzKAEQn3V",
        "outputId": "fcd193e3-6479-4038-ff47-543152c245bf"
      },
      "execution_count": 20,
      "outputs": [
        {
          "output_type": "stream",
          "name": "stdout",
          "text": [
            "Number of edible mushrooms with n rings: 0\n",
            "Number of edible mushrooms with o rings: 3680\n",
            "Number of edible mushrooms with t rings: 528\n",
            "Total edible mushroom count: 4208\n"
          ]
        }
      ]
    },
    {
      "cell_type": "markdown",
      "source": [
        "- Next, let's plot the barplot comparing the 2 mushroom categories.\n",
        "- Source for creating barplots: https://pythonspot.com/matplotlib-bar-chart/\n",
        "- Source for changing plot size: https://pythonguides.com/matplotlib-increase-plot-size/#:~:text=To%20change%20the%20figure%20size,use%20the%20show()%20function."
      ],
      "metadata": {
        "id": "7AgFMZ9PEKZJ"
      }
    },
    {
      "cell_type": "code",
      "source": [
        "# Create data to plot in the barplot.\n",
        "rings_groups = len(rings_list)\n",
        "\n",
        "# Create the barplot using the aforementioned values obtained from entry counts.\n",
        "plt.style.use('seaborn')\n",
        "fig, ax = plt.subplots(figsize=(10,6))\n",
        "index = np.arange(rings_groups)\n",
        "bar_width = 0.40\n",
        "opacity = 0.75\n",
        "\n",
        "rects1 = plt.bar(index, edible_rings, bar_width,\n",
        "alpha=opacity,\n",
        "color='b',\n",
        "label='Edible Mushrooms')\n",
        "\n",
        "rects2 = plt.bar(index + bar_width, poisonous_rings, bar_width,\n",
        "alpha=opacity,\n",
        "color='r',\n",
        "label='Poisonous Mushrooms')\n",
        "\n",
        "plt.xlabel('Number of Rings', size = 20)\n",
        "plt.ylabel('Mushroom Count', size = 20)\n",
        "plt.title('Number of Mushrooms Based on Mushroom Ring Counts', size = 20)\n",
        "plt.xticks(index + bar_width * 0.5, ('Zero', 'One', 'Two'), size = 12)\n",
        "plt.legend(fontsize = 12)\n",
        "\n",
        "plt.tight_layout()\n",
        "plt.show()"
      ],
      "metadata": {
        "colab": {
          "base_uri": "https://localhost:8080/",
          "height": 441
        },
        "id": "jCbEaXncGODV",
        "outputId": "389d9e65-02d8-4a01-cb2f-b05945d99c72"
      },
      "execution_count": 21,
      "outputs": [
        {
          "output_type": "display_data",
          "data": {
            "text/plain": [
              "<Figure size 720x432 with 1 Axes>"
            ],
            "image/png": "[encoded data removed]"
          },
          "metadata": {}
        }
      ]
    },
    {
      "cell_type": "markdown",
      "source": [
        "- Based on the diagram, it seems that mushrooms that have no rings are all classified as poisonous!\n",
        "- Mushrooms with 1 ring seem to have an even split between edible and poisonous types.\n",
        "- Lastly, the majority of mushrooms with 2 rings seem to be edible, but there are a few poisonous ones in that category."
      ],
      "metadata": {
        "id": "7vJ7-Lg75Ni0"
      }
    },
    {
      "cell_type": "markdown",
      "source": [
        "## **Univariate Visual 2: Mushrooms by Habitat**"
      ],
      "metadata": {
        "id": "6ahv3x6y5wNO"
      }
    },
    {
      "cell_type": "markdown",
      "source": [
        "- Next, I would like to examine how the mushrooms types are affected by the habitat they are in."
      ],
      "metadata": {
        "id": "gi2GjICjHD-u"
      }
    },
    {
      "cell_type": "code",
      "source": [
        "# Find the unique values in the habitat column of the original dataset.\n",
        "habitat_list = mushrooms_df['habitat'].unique()\n",
        "habitat_list"
      ],
      "metadata": {
        "colab": {
          "base_uri": "https://localhost:8080/"
        },
        "id": "fvU_1m4k3Uas",
        "outputId": "d17905e2-a571-477c-a87c-c49b8dba0278"
      },
      "execution_count": 22,
      "outputs": [
        {
          "output_type": "execute_result",
          "data": {
            "text/plain": [
              "array(['u', 'g', 'm', 'd', 'p', 'w', 'l'], dtype=object)"
            ]
          },
          "metadata": {},
          "execution_count": 22
        }
      ]
    },
    {
      "cell_type": "markdown",
      "source": [
        "- Let's get mushroom count for the different habitats from each subset."
      ],
      "metadata": {
        "id": "r6taHFsbHWXO"
      }
    },
    {
      "cell_type": "code",
      "source": [
        "# Create counts on number of poisonous entries with the corresponding habitat.\n",
        "# I will create a for loop to accomplish this.\n",
        "poisonous_habitat = []\n",
        "for x in habitat_list:\n",
        "  habitat = len(poisonous_df.loc[poisonous_df['habitat'] == x,:])\n",
        "  print(\"Number of poisonous mushrooms with\", x, \"habitat:\", habitat)\n",
        "  poisonous_habitat.append(habitat)\n",
        "\n",
        "# Total count of poisonous mushrooms\n",
        "print(\"Total poisonous mushroom count:\", sum(poisonous_habitat))"
      ],
      "metadata": {
        "colab": {
          "base_uri": "https://localhost:8080/"
        },
        "id": "YhS6yha-6yCb",
        "outputId": "22d9e1d2-f3a7-452b-f75c-d2288209ae4b"
      },
      "execution_count": 23,
      "outputs": [
        {
          "output_type": "stream",
          "name": "stdout",
          "text": [
            "Number of poisonous mushrooms with u habitat: 272\n",
            "Number of poisonous mushrooms with g habitat: 740\n",
            "Number of poisonous mushrooms with m habitat: 36\n",
            "Number of poisonous mushrooms with d habitat: 1268\n",
            "Number of poisonous mushrooms with p habitat: 1008\n",
            "Number of poisonous mushrooms with w habitat: 0\n",
            "Number of poisonous mushrooms with l habitat: 592\n",
            "Total poisonous mushroom count: 3916\n"
          ]
        }
      ]
    },
    {
      "cell_type": "code",
      "source": [
        "# Create counts on number of edible entries with the corresponding habitat.\n",
        "# I will create a for loop to accomplish this.\n",
        "edible_habitat = []\n",
        "for x in habitat_list:\n",
        "  habitat = len(edible_df.loc[edible_df['habitat'] == x,:])\n",
        "  print(\"Number of edible mushrooms with\", x, \"habitat:\", habitat)\n",
        "  edible_habitat.append(habitat)\n",
        "\n",
        "# Total count of edible mushrooms\n",
        "print(\"Total edible mushroom count:\", sum(edible_habitat))"
      ],
      "metadata": {
        "colab": {
          "base_uri": "https://localhost:8080/"
        },
        "id": "gZZFfL288Vfy",
        "outputId": "28db4002-5df6-45b4-d994-734ae75a0c41"
      },
      "execution_count": 24,
      "outputs": [
        {
          "output_type": "stream",
          "name": "stdout",
          "text": [
            "Number of edible mushrooms with u habitat: 96\n",
            "Number of edible mushrooms with g habitat: 1408\n",
            "Number of edible mushrooms with m habitat: 256\n",
            "Number of edible mushrooms with d habitat: 1880\n",
            "Number of edible mushrooms with p habitat: 136\n",
            "Number of edible mushrooms with w habitat: 192\n",
            "Number of edible mushrooms with l habitat: 240\n",
            "Total edible mushroom count: 4208\n"
          ]
        }
      ]
    },
    {
      "cell_type": "markdown",
      "source": [
        "- Let's plot the barplot comparing mushroom types based on habitat.\n",
        "- Just for reference from the data dictionary:\n",
        "  - habitat: grasses=g, leaves=l, meadows=m, paths=p, urban=u, waste=w, woods=d (7 distinct values)"
      ],
      "metadata": {
        "id": "afcvoFMcFDxX"
      }
    },
    {
      "cell_type": "code",
      "source": [
        "# Create data to plot in the barplot.\n",
        "habitat_groups = len(habitat_list)\n",
        "\n",
        "# Create the barplot using the aforementioned values obtained from entry counts.\n",
        "plt.style.use('seaborn')\n",
        "fig, ax = plt.subplots(figsize=(12,8))\n",
        "index = np.arange(habitat_groups)\n",
        "bar_width = 0.40\n",
        "opacity = 0.75\n",
        "\n",
        "rects1 = plt.bar(index, edible_habitat, bar_width,\n",
        "alpha=opacity,\n",
        "color='b',\n",
        "label='Edible Mushrooms')\n",
        "\n",
        "rects2 = plt.bar(index + bar_width, poisonous_habitat, bar_width,\n",
        "alpha=opacity,\n",
        "color='r',\n",
        "label='Poisonous Mushrooms')\n",
        "\n",
        "plt.xlabel('Habitat', size = 24)\n",
        "plt.ylabel('Mushroom Count', size = 24)\n",
        "plt.title('Number of Mushrooms Based on Habitat', size = 32)\n",
        "plt.xticks(index + bar_width * 0.5, ('Urban', 'Grasses', 'Meadows',\n",
        "                                     'Woods', 'Paths', 'Waste',\n",
        "                                     'Leaves'), size = 12)\n",
        "plt.legend(fontsize = 12)\n",
        "\n",
        "plt.tight_layout()\n",
        "plt.show()"
      ],
      "metadata": {
        "colab": {
          "base_uri": "https://localhost:8080/",
          "height": 585
        },
        "id": "KkQsoVM-EZS3",
        "outputId": "72f719d5-81f6-456c-f6c4-8d083ab5cece"
      },
      "execution_count": 25,
      "outputs": [
        {
          "output_type": "display_data",
          "data": {
            "text/plain": [
              "<Figure size 864x576 with 1 Axes>"
            ],
            "image/png": "[encoded data removed]"
          },
          "metadata": {}
        }
      ]
    },
    {
      "cell_type": "markdown",
      "source": [
        "- Based on the barchart, it seems that a majority of both edible and poisonous mushrooms reside in the woods habitat.\n",
        "- The majority of mushrooms in the urban, paths, and leaves are poisonous, whereas the majority of mushrooms in the grasses, meadows, woods, and waste are edible.\n",
        "- I was surprised at the waste habitat, as I was expecting mushrooms to be poisonous in that habitat.\n",
        "- I was not surprised at the urban, paths, and leaves habitats, as those tend to be located in man-made and synthetic areas where they are prone to more chemical and air-bourne pollutants."
      ],
      "metadata": {
        "id": "iG-HqgfWILQY"
      }
    },
    {
      "cell_type": "markdown",
      "source": [
        "## **Univariate Visual 3: Mushrooms by Cap Shape**"
      ],
      "metadata": {
        "id": "9PxB0JuwIG96"
      }
    },
    {
      "cell_type": "markdown",
      "source": [
        "- Lastly, I would like to examine how cap shape affects whether a mushroom is edible or poisonous.\n",
        "- Let's create a list of cap shape values."
      ],
      "metadata": {
        "id": "WTSlfS7eUyeB"
      }
    },
    {
      "cell_type": "code",
      "source": [
        "# Find the unique values in the habitat column of the original dataset.\n",
        "capshape_list = mushrooms_df['cap-shape'].unique()\n",
        "capshape_list"
      ],
      "metadata": {
        "colab": {
          "base_uri": "https://localhost:8080/"
        },
        "id": "O4WaJlwUIKlx",
        "outputId": "e684cb70-2d79-4c31-9e76-2d67796f00ae"
      },
      "execution_count": 26,
      "outputs": [
        {
          "output_type": "execute_result",
          "data": {
            "text/plain": [
              "array(['x', 'b', 's', 'f', 'k', 'c'], dtype=object)"
            ]
          },
          "metadata": {},
          "execution_count": 26
        }
      ]
    },
    {
      "cell_type": "markdown",
      "source": [
        "- Let's use for loops to get mushrooms counts based on cap shape in each subset."
      ],
      "metadata": {
        "id": "SR9vTn-gU7ow"
      }
    },
    {
      "cell_type": "code",
      "source": [
        "# Create counts on number of poisonous entries with the corresponding cap shape.\n",
        "# I will create a for loop to accomplish this.\n",
        "poisonous_capshape = []\n",
        "for x in capshape_list:\n",
        "  capshape = len(poisonous_df.loc[poisonous_df['cap-shape'] == x,:])\n",
        "  print(\"Number of poisonous mushrooms with\", x, \"capshape:\", capshape)\n",
        "  poisonous_capshape.append(capshape)\n",
        "\n",
        "# Total count of poisonous mushrooms\n",
        "print(\"Total poisonous mushroom count:\", sum(poisonous_capshape))"
      ],
      "metadata": {
        "colab": {
          "base_uri": "https://localhost:8080/"
        },
        "id": "26l6EJILJbjS",
        "outputId": "1f9e932a-f1cc-4a32-e884-c4ee16b29cb3"
      },
      "execution_count": 27,
      "outputs": [
        {
          "output_type": "stream",
          "name": "stdout",
          "text": [
            "Number of poisonous mushrooms with x capshape: 1708\n",
            "Number of poisonous mushrooms with b capshape: 48\n",
            "Number of poisonous mushrooms with s capshape: 0\n",
            "Number of poisonous mushrooms with f capshape: 1556\n",
            "Number of poisonous mushrooms with k capshape: 600\n",
            "Number of poisonous mushrooms with c capshape: 4\n",
            "Total poisonous mushroom count: 3916\n"
          ]
        }
      ]
    },
    {
      "cell_type": "code",
      "source": [
        "# Create counts on number of edible entries with the corresponding cap shape.\n",
        "# I will create a for loop to accomplish this.\n",
        "edible_capshape = []\n",
        "for x in capshape_list:\n",
        "  capshape = len(edible_df.loc[edible_df['cap-shape'] == x,:])\n",
        "  print(\"Number of edible mushrooms with\", x, \"capshape:\", capshape)\n",
        "  edible_capshape.append(capshape)\n",
        "\n",
        "# Total count of edible mushrooms\n",
        "print(\"Total edible mushroom count:\", sum(edible_capshape))"
      ],
      "metadata": {
        "colab": {
          "base_uri": "https://localhost:8080/"
        },
        "id": "JEakh1rSJF9W",
        "outputId": "d78b5aa2-eb4a-44ef-b5f8-006a09f2ef31"
      },
      "execution_count": 28,
      "outputs": [
        {
          "output_type": "stream",
          "name": "stdout",
          "text": [
            "Number of edible mushrooms with x capshape: 1948\n",
            "Number of edible mushrooms with b capshape: 404\n",
            "Number of edible mushrooms with s capshape: 32\n",
            "Number of edible mushrooms with f capshape: 1596\n",
            "Number of edible mushrooms with k capshape: 228\n",
            "Number of edible mushrooms with c capshape: 0\n",
            "Total edible mushroom count: 4208\n"
          ]
        }
      ]
    },
    {
      "cell_type": "markdown",
      "source": [
        "- Let's plot the barplot comparing cap shapes of edible and poisonous mushrooms.\n",
        "- Just for reference from the data dictionary:\n",
        "  - cap-shape: bell=b, conical=c, convex=x, flat=f, knobbed=k, sunken=s (6 distinct values)"
      ],
      "metadata": {
        "id": "T66O_wNXML6C"
      }
    },
    {
      "cell_type": "code",
      "source": [
        "# Create data to plot in the barplot.\n",
        "capshape_groups = len(capshape_list)\n",
        "\n",
        "# Create the barplot using the aforementioned values obtained from entry counts.\n",
        "plt.style.use('seaborn')\n",
        "fig, ax = plt.subplots(figsize=(10,6))\n",
        "index = np.arange(capshape_groups)\n",
        "bar_width = 0.40\n",
        "opacity = 0.75\n",
        "\n",
        "rects1 = plt.bar(index, edible_capshape, bar_width,\n",
        "alpha=opacity,\n",
        "color='b',\n",
        "label='Edible Mushrooms')\n",
        "\n",
        "rects2 = plt.bar(index + bar_width, poisonous_capshape, bar_width,\n",
        "alpha=opacity,\n",
        "color='r',\n",
        "label='Poisonous Mushrooms')\n",
        "\n",
        "plt.xlabel('Cap Shape', size = 20)\n",
        "plt.ylabel('Mushroom Count', size = 20)\n",
        "plt.title('Number of Mushrooms Based on Cap Shape', size = 24)\n",
        "plt.xticks(index + bar_width * 0.5, ('Convex', 'Bell', 'Sunken',\n",
        "                                     'Flat', 'Knobbed', 'Conical'),\n",
        "                                     size = 12)\n",
        "plt.legend(fontsize = 12)\n",
        "\n",
        "plt.tight_layout()\n",
        "plt.show()"
      ],
      "metadata": {
        "colab": {
          "base_uri": "https://localhost:8080/",
          "height": 441
        },
        "id": "xbc3ziVGL7ED",
        "outputId": "51fb84a8-4c68-4a24-bece-6642ab6e96f7"
      },
      "execution_count": 29,
      "outputs": [
        {
          "output_type": "display_data",
          "data": {
            "text/plain": [
              "<Figure size 720x432 with 1 Axes>"
            ],
            "image/png": "[encoded data removed]"
          },
          "metadata": {}
        }
      ]
    },
    {
      "cell_type": "markdown",
      "source": [
        "- Based on the barchart, it seems that the majority of knobbed mushrooms are poisonous, and all conical mushrooms are classified as poisonous as well.\n",
        "- The majority of bell and sunken shapes are edible, whereas convex and flat share about a 50-50 split on the mushroom types."
      ],
      "metadata": {
        "id": "RPN9oa3jXbj0"
      }
    },
    {
      "cell_type": "markdown",
      "source": [
        "## **Correlation Heatmap**"
      ],
      "metadata": {
        "id": "SACeeR0MYHKx"
      }
    },
    {
      "cell_type": "markdown",
      "source": [
        "- We will use associations method from the Dython library to create and map a correlation heatmap comparing the categorical variables with each other in the original dataset."
      ],
      "metadata": {
        "id": "4RdKqQIR-yZw"
      }
    },
    {
      "cell_type": "code",
      "source": [
        "# Use Dython to generate a correlation heatmap between the categorical variables.\n",
        "associations(mushrooms_df, figsize = (14,14))"
      ],
      "metadata": {
        "colab": {
          "base_uri": "https://localhost:8080/",
          "height": 1000
        },
        "id": "5IbLK-tcm9oB",
        "outputId": "f2537a0a-66d9-4422-c068-d333970e1fd2"
      },
      "execution_count": 31,
      "outputs": [
        {
          "output_type": "display_data",
          "data": {
            "text/plain": [
              "<Figure size 1008x1008 with 2 Axes>"
            ],
            "image/png": "[encoded data removed]"
          },
          "metadata": {}
        },
        {
          "output_type": "execute_result",
          "data": {
            "text/plain": [
              "{'ax': <AxesSubplot:>,\n",
              " 'corr':                       class  cap-shape  cap-surface  cap-color   bruises  \\\n",
              " class              1.000000   0.244330     0.195997   0.215889  0.501188   \n",
              " cap-shape          0.244330   1.000000     0.202242   0.168221  0.254415   \n",
              " cap-surface        0.195997   0.202242     1.000000   0.222841  0.133004   \n",
              " cap-color          0.215889   0.168221     0.222841   1.000000  0.215101   \n",
              " bruises            0.501188   0.254415     0.133004   0.215101  1.000000   \n",
              " ...                     ...        ...          ...        ...       ...   \n",
              " ring-number        0.214212   0.197883     0.097278   0.336128  0.069373   \n",
              " ring-type          0.602900   0.206749     0.223669   0.557217  0.768218   \n",
              " spore-print-color  0.752036   0.249101     0.230539   0.284714  0.611623   \n",
              " population         0.486775   0.240074     0.260952   0.304085  0.299568   \n",
              " habitat            0.439323   0.269842     0.249577   0.325199  0.530257   \n",
              " \n",
              "                        odor  gill-attachment  gill-spacing  gill-size  \\\n",
              " class              0.970558         0.127951      0.347897   0.539677   \n",
              " cap-shape          0.243577         0.152989      0.077849   0.345956   \n",
              " cap-surface        0.236416         0.209977      0.337696   0.276765   \n",
              " cap-color          0.330517         0.245736      0.398593   0.469156   \n",
              " bruises            0.660201         0.136129      0.298946   0.369182   \n",
              " ...                     ...              ...           ...        ...   \n",
              " ring-number        0.742250         0.203183      0.245173   0.194363   \n",
              " ring-type          0.696379         0.249776      0.289482   0.570257   \n",
              " spore-print-color  0.395340         0.826353      0.307018   0.659975   \n",
              " population         0.373698         0.413362      0.673533   0.517249   \n",
              " habitat            0.368861         0.435707      0.541961   0.498616   \n",
              " \n",
              "                    gill-color  ...  stalk-surface-below-ring  \\\n",
              " class                0.679877  ...                  0.574551   \n",
              " cap-shape            0.232274  ...                  0.109487   \n",
              " cap-surface          0.255023  ...                  0.168331   \n",
              " cap-color            0.280178  ...                  0.318457   \n",
              " bruises              0.649324  ...                  0.566441   \n",
              " ...                       ...  ...                       ...   \n",
              " ring-number          0.442824  ...                  0.255638   \n",
              " ring-type            0.517343  ...                  0.518984   \n",
              " spore-print-color    0.484083  ...                  0.420590   \n",
              " population           0.423513  ...                  0.321104   \n",
              " habitat              0.457212  ...                  0.309131   \n",
              " \n",
              "                    stalk-color-above-ring  stalk-color-below-ring  veil-type  \\\n",
              " class                            0.523943                0.513799        0.0   \n",
              " cap-shape                        0.212427                0.167534        0.0   \n",
              " cap-surface                      0.250561                0.255578        0.0   \n",
              " cap-color                        0.274663                0.277404        0.0   \n",
              " bruises                          0.482236                0.491868        0.0   \n",
              " ...                                   ...                     ...        ...   \n",
              " ring-number                      0.770740                0.771267        0.0   \n",
              " ring-type                        0.672056                0.664047        0.0   \n",
              " spore-print-color                0.414923                0.410510        0.0   \n",
              " population                       0.418367                0.415091        0.0   \n",
              " habitat                          0.418261                0.416822        0.0   \n",
              " \n",
              "                    veil-color  ring-number  ring-type  spore-print-color  \\\n",
              " class                0.152222     0.214212   0.602900           0.752036   \n",
              " cap-shape            0.223124     0.197883   0.206749           0.249101   \n",
              " cap-surface          0.133014     0.097278   0.223669           0.230539   \n",
              " cap-color            0.147231     0.336128   0.557217           0.284714   \n",
              " bruises              0.132587     0.069373   0.768218           0.611623   \n",
              " ...                       ...          ...        ...                ...   \n",
              " ring-number          0.026509     1.000000   0.713641           0.367569   \n",
              " ring-type            0.092622     0.713641   1.000000           0.550017   \n",
              " spore-print-color    0.499951     0.367569   0.550017           1.000000   \n",
              " population           0.226466     0.417545   0.342205           0.298200   \n",
              " habitat              0.270233     0.429743   0.302604           0.324531   \n",
              " \n",
              "                    population   habitat  \n",
              " class                0.486775  0.439323  \n",
              " cap-shape            0.240074  0.269842  \n",
              " cap-surface          0.260952  0.249577  \n",
              " cap-color            0.304085  0.325199  \n",
              " bruises              0.299568  0.530257  \n",
              " ...                       ...       ...  \n",
              " ring-number          0.417545  0.429743  \n",
              " ring-type            0.342205  0.302604  \n",
              " spore-print-color    0.298200  0.324531  \n",
              " population           1.000000  0.506176  \n",
              " habitat              0.506176  1.000000  \n",
              " \n",
              " [23 rows x 23 columns]}"
            ]
          },
          "metadata": {},
          "execution_count": 31
        }
      ]
    },
    {
      "cell_type": "markdown",
      "source": [
        "- In terms of correlation with respect to the mushroom class, the 3 features that exhibit the strongest correlation are as follows:\n",
        "  - Odor exhibits the strongest correlation at 0.97.\n",
        "  - Spore print color exhibits the next strongest correlation at 0.75.\n",
        "  - Ring type exhibits a moderate correlation at 0.60.\n",
        "- In terms of correlation with respect to features themselves, the 3 sets of features that exhibit the strongest correlation are as follows:\n",
        "  - Gill attachment and stalk color above ring exhibit the strongest correlation at 0.98.\n",
        "  - Gill attachment and stalk color below ring exhibit a matching correlation with the strongest one at 0.98.\n",
        "  - Gill attachment and veil color exhibit the next strongest correlation at 0.95.\n",
        "- Overall, I would definitely say that the mushroom odor serves as the best indicator of whether a mushroom is edible or poisonous, if there were only one feature I would use to make that class determination."
      ],
      "metadata": {
        "id": "hhx2TcE19BhG"
      }
    }
  ]
}